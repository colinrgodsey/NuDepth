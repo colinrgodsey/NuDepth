{
 "cells": [
  {
   "cell_type": "code",
   "execution_count": 1,
   "metadata": {},
   "outputs": [],
   "source": [
    "import traitlets\n",
    "import traceback\n",
    "\n",
    "import numpy as np\n",
    "import ipywidgets.widgets as widgets\n",
    "\n",
    "from jetbot import Camera, bgr8_to_jpeg\n",
    "from jetbot import Robot\n",
    "\n",
    "from IPython.display import display\n",
    "\n",
    "robot = Robot()"
   ]
  },
  {
   "cell_type": "code",
   "execution_count": 2,
   "metadata": {},
   "outputs": [],
   "source": [
    "import tensorflow as tf\n",
    "\n",
    "physical_devices = tf.config.experimental.list_physical_devices('GPU')\n",
    "if physical_devices:\n",
    "  for dev in physical_devices:\n",
    "    tf.config.experimental.set_memory_growth(dev, True)"
   ]
  },
  {
   "cell_type": "code",
   "execution_count": 3,
   "metadata": {},
   "outputs": [],
   "source": [
    "#model = tf.saved_model.load(\"saved_model/depth-v1\")\n",
    "model = tf.saved_model.load(\"saved_model/depth-v1-trt\")\n",
    "#model = tf.saved_model.load(\"/home/jetbot/depth-v1-trt\")"
   ]
  },
  {
   "cell_type": "code",
   "execution_count": 4,
   "metadata": {},
   "outputs": [
    {
     "name": "stdout",
     "output_type": "stream",
     "text": [
      "{'l3state': TensorSpec(shape=(None, 7, 7, 160), dtype=tf.float32, name='l3state'), 'l4state': TensorSpec(shape=(None, 7, 7, 32), dtype=tf.float32, name='l4state'), 'odometry': TensorSpec(shape=(None, 6), dtype=tf.float32, name='odometry'), 'input': TensorSpec(shape=(None, 224, 224, 3), dtype=tf.float32, name='input'), 'l2state': TensorSpec(shape=(None, 7, 7, 256), dtype=tf.float32, name='l2state')}\n"
     ]
    }
   ],
   "source": [
    "infer = model.signatures[\"serving_default\"]\n",
    "inputs = infer.structured_input_signature[1]\n",
    "print(inputs)\n",
    "\n",
    "l2state = tf.Variable(tf.ones((1,) + inputs['l2state'].shape[1:], dtype=tf.float32))\n",
    "l3state = tf.Variable(tf.ones((1,) + inputs['l3state'].shape[1:], dtype=tf.float32))\n",
    "l4state = tf.Variable(tf.ones((1,) + inputs['l4state'].shape[1:], dtype=tf.float32))"
   ]
  },
  {
   "cell_type": "code",
   "execution_count": 5,
   "metadata": {},
   "outputs": [],
   "source": [
    "camera = Camera.instance(width=320, height=240, fps=10, capture_width=320, capture_height=240)\n",
    "\n",
    "cam_img = widgets.Image(format='jpeg', width=224, height=224)\n",
    "depth_img = widgets.Image(format='jpeg', width=224, height=224)\n",
    "clearance = widgets.FloatSlider(description='clearance', min=0.0, max=8.0, orientation='vertical')\n",
    "tz = widgets.FloatSlider(description='tz', min=0.0, max=1.0, orientation='vertical')\n",
    "rx = widgets.FloatSlider(description='rx', min=-1.0, max=1.0, orientation='vertical')\n",
    "l2 = widgets.FloatSlider(description='l2', min=0.0, max=10.0, orientation='vertical')"
   ]
  },
  {
   "cell_type": "code",
   "execution_count": 6,
   "metadata": {},
   "outputs": [],
   "source": [
    "def proc_camera(img):\n",
    "  w = img.shape[-2]\n",
    "  h = img.shape[-3]\n",
    "  if h > w:\n",
    "    img = tf.image.crop_to_bounding_box(img, (h - w) // 2, 0, w, w)\n",
    "  elif h < w:\n",
    "    img = tf.image.crop_to_bounding_box(img, 0, (w - h) // 2, h, h)\n",
    "\n",
    "  img = tf.image.resize(\n",
    "    img, (224, 224), antialias=True\n",
    "  )\n",
    "    \n",
    "  return img"
   ]
  },
  {
   "cell_type": "code",
   "execution_count": 21,
   "metadata": {},
   "outputs": [
    {
     "name": "stdout",
     "output_type": "stream",
     "text": [
      "(240, 320, 3)\n"
     ]
    },
    {
     "data": {
      "application/vnd.jupyter.widget-view+json": {
       "model_id": "11c5abe02ba343d8a57dc5baa8024c39",
       "version_major": 2,
       "version_minor": 0
      },
      "text/plain": [
       "HBox(children=(Image(value=b'\\xff\\xd8\\xff\\xe0\\x00\\x10JFIF\\x00\\x01\\x01\\x00\\x00\\x01\\x00\\x01\\x00\\x00\\xff\\xdb\\x00C…"
      ]
     },
     "metadata": {},
     "output_type": "display_data"
    },
    {
     "name": "stdout",
     "output_type": "stream",
     "text": [
      "22.452457\n",
      "28.170198\n"
     ]
    }
   ],
   "source": [
    "camera.unobserve_all()\n",
    "robot.stop()\n",
    "#camera.stop()\n",
    "#camera.start()\n",
    "\n",
    "avg_weight = 0.75\n",
    "clearance_min = 1.0\n",
    "\n",
    "l2state.assign(tf.random.uniform(l2state.shape))\n",
    "l3state.assign(tf.random.uniform(l3state.shape))\n",
    "l4state.assign(tf.random.uniform(l4state.shape))\n",
    "\n",
    "def get_odom():\n",
    "    tz.value = robot.left_motor.value + robot.right_motor.value\n",
    "    rx.value = robot.right_motor.value - robot.left_motor.value\n",
    "    return tf.constant([[rx.value, 0, 0, 0, 0, tz.value]])\n",
    "\n",
    "def update_motors():\n",
    "    max_speed = 0.4\n",
    "    min_speed = -0.2\n",
    "    #return\n",
    "    robot.left_motor.value = max_speed\n",
    "    \n",
    "    new_right = robot.right_motor.value\n",
    "    if clearance.value < clearance_min:\n",
    "        #new_right *= 0.9\n",
    "        new_right -= 0.01\n",
    "    else:\n",
    "        new_right += 0.01\n",
    "        \n",
    "    if new_right > max_speed:\n",
    "        new_right = max_speed\n",
    "    elif new_right < min_speed:\n",
    "        new_right = min_speed\n",
    "        \n",
    "    robot.right_motor.value = new_right\n",
    "\n",
    "@tf.function\n",
    "def cam_update_func(x, odom):\n",
    "    x = tf.cast(x, tf.float32)\n",
    "    x = tf.expand_dims(x, 0)\n",
    "    x /= 255.0\n",
    "    depth, l2state_, l3state_, l4state_ = model([\n",
    "        x, odom, l2state, l3state, l4state\n",
    "    ], training=True)\n",
    "    l2state.assign(l2state_, read_value=False)\n",
    "    l3state.assign(l3state_, read_value=False)\n",
    "    l4state.assign(l4state_, read_value=False)\n",
    "    depth += 1.0\n",
    "    depth *= 0.5\n",
    "    depth_m = depth * 8.0\n",
    "    depth_m = depth_m[0, :14, :, :]\n",
    "    depth = tf.broadcast_to(depth, depth.shape[:-1] + (3,))\n",
    "    depth = tf.clip_by_value(depth, 0, 1)\n",
    "    depth *= 255\n",
    "    depth = tf.cast(depth, tf.uint8)\n",
    "    depth = tf.squeeze(depth, 0)\n",
    "    return depth, depth_m\n",
    "    \n",
    "rep_test = False\n",
    "def cam_update(change):\n",
    "    global l2state, l3state, l4state, rep_test\n",
    "    try:\n",
    "        x = change['new']\n",
    "        \n",
    "        if not rep_test:\n",
    "            x2 = tf.cast(x, tf.float32)\n",
    "            rep_test = True\n",
    "            print(x.shape)\n",
    "            print(tf.reduce_mean(x2).numpy())\n",
    "            print(tf.math.reduce_std(x2).numpy())\n",
    "            \n",
    "        x = tf.cast(x, tf.uint8)\n",
    "            \n",
    "        x = proc_camera(x)\n",
    "        cam_img.value = bgr8_to_jpeg(x.numpy())\n",
    "        \n",
    "        depth, depth_m = cam_update_func(x, get_odom())\n",
    "        \n",
    "        depth_img.value = bgr8_to_jpeg(depth.numpy())\n",
    "        l2.value = tf.reduce_mean(l2state).numpy() * 10\n",
    "        \n",
    "        closest_m = tf.math.reduce_mean(depth_m) - tf.math.reduce_std(depth_m)\n",
    "        clearance.value = clearance.value * (1.0 - avg_weight) + closest_m.numpy() * avg_weight\n",
    "        \n",
    "        update_motors()\n",
    "    except:\n",
    "        camera.unobserve_all()\n",
    "        traceback.print_exc()\n",
    "        \n",
    "camera.start()\n",
    "camera.observe(cam_update, names='value')\n",
    "display(widgets.HBox([cam_img, clearance, rx, tz, l2, depth_img]))"
   ]
  },
  {
   "cell_type": "code",
   "execution_count": 22,
   "metadata": {},
   "outputs": [],
   "source": [
    "import time\n",
    "\n",
    "camera.unobserve_all()\n",
    "camera.stop()\n",
    "time.sleep(1)\n",
    "robot.stop()"
   ]
  },
  {
   "cell_type": "code",
   "execution_count": null,
   "metadata": {},
   "outputs": [],
   "source": []
  }
 ],
 "metadata": {
  "kernelspec": {
   "display_name": "Python 3",
   "language": "python",
   "name": "python3"
  },
  "language_info": {
   "codemirror_mode": {
    "name": "ipython",
    "version": 3
   },
   "file_extension": ".py",
   "mimetype": "text/x-python",
   "name": "python",
   "nbconvert_exporter": "python",
   "pygments_lexer": "ipython3",
   "version": "3.6.9"
  }
 },
 "nbformat": 4,
 "nbformat_minor": 4
}
